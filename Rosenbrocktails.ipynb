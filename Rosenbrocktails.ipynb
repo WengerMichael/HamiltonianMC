{
 "cells": [
  {
   "cell_type": "code",
   "execution_count": 3,
   "metadata": {},
   "outputs": [],
   "source": [
    "import numpy as np\n",
    "import matplotlib.pyplot as plt\n"
   ]
  },
  {
   "cell_type": "code",
   "execution_count": 4,
   "metadata": {},
   "outputs": [],
   "source": [
    "def load_and_process_csv(file_path):\n",
    "    data = np.loadtxt(file_path, delimiter=',', skiprows=2)\n",
    "    if data.shape[1] < 2:\n",
    "        raise ValueError(f\"Data in {file_path} must have at least two columns for 2D plotting\")\n",
    "    return data\n",
    "\n",
    "def load_acceptance_rate(file_path):\n",
    "    acceptance_rate = np.loadtxt(file_path, delimiter=',', skiprows=1, max_rows=1)[0]\n",
    "    return acceptance_rate"
   ]
  },
  {
   "cell_type": "code",
   "execution_count": 5,
   "metadata": {},
   "outputs": [],
   "source": [
    "# Paths to the CSV files\n",
    "csv_file_paths_hmc = ['HMC_data/HMC_samples_RB_10000.csv', 'HMC_data/HMC_samples_RB_50000.csv', 'HMC_data/HMC_samples_RB_100000.csv']  # Replace with your actual file paths\n",
    "\n",
    "# Load and process each CSV file\n",
    "HMC_data = [load_and_process_csv(file_path) for file_path in csv_file_paths_hmc]\n",
    "HMC_acceptance_rate = [load_acceptance_rate(file_path) for file_path in csv_file_paths_hmc]\n",
    "# Paths to the CSV files\n",
    "csv_file_paths_mh = ['MH_data/MH_samples_RB_10000.csv', 'MH_data/MH_samples_RB_50000.csv', 'MH_data/MH_samples_RB_100000.csv']  # Replace with your actual file paths\n",
    "\n",
    "# Load and process each CSV file\n",
    "MH_data = [load_and_process_csv(file_path) for file_path in csv_file_paths_mh]\n",
    "MH_acceptance_rate = [load_acceptance_rate(file_path) for file_path in csv_file_paths_mh]\n",
    "\n"
   ]
  },
  {
   "cell_type": "code",
   "execution_count": 6,
   "metadata": {},
   "outputs": [],
   "source": [
    "def rosenbrock(x):\n",
    "    a = 1.0\n",
    "    b = 100.0\n",
    "    return np.exp(-((a - x[0])**2 + b * (x[1] - x[0]**2)**2))"
   ]
  },
  {
   "cell_type": "code",
   "execution_count": 7,
   "metadata": {},
   "outputs": [],
   "source": [
    "def monte_carlo_integration(f, x_bounds, y_bounds, n_points=1000000):\n",
    "    x_min, x_max = x_bounds\n",
    "    y_min, y_max = y_bounds\n",
    "\n",
    "    # Generate random points within the specified bounds\n",
    "    x_random = np.random.uniform(x_min, x_max, n_points)\n",
    "    y_random = np.random.uniform(y_min, y_max, n_points)\n",
    "\n",
    "    # Evaluate the function at these random points\n",
    "    values = np.array([f([x, y]) for x, y in zip(x_random, y_random)])\n",
    "    \n",
    "    # Compute the area of the integration region\n",
    "    area = (x_max - x_min) * (y_max - y_min)\n",
    "    \n",
    "    # Estimate the integral\n",
    "    integral = area * np.mean(values)\n",
    "    \n",
    "    return integral\n",
    "\n"
   ]
  },
  {
   "cell_type": "code",
   "execution_count": 47,
   "metadata": {},
   "outputs": [
    {
     "name": "stdout",
     "output_type": "stream",
     "text": [
      "0.07776892444476262\n"
     ]
    }
   ],
   "source": [
    "# Define the bounds for integration\n",
    "x_bounds_tail = (2,100)  # Assuming some reasonable upper limit for x\n",
    "y_bounds_tail = (3,100)  # Assuming some reasonable upper limit for y\n",
    "\n",
    "# Perform the integration\n",
    "integral_result_tail = monte_carlo_integration(rosenbrock, x_bounds_tail, y_bounds_tail, n_points=10000000)\n",
    "\n",
    "\n",
    "\n",
    "# Define the bounds for integration\n",
    "x_bounds = (-200, 200)  # Assuming some reasonable upper limit for x\n",
    "y_bounds = (-200, 200)  # Assuming some reasonable upper limit for y\n",
    "\n",
    "# Perform the integration\n",
    "integral_result = monte_carlo_integration(rosenbrock, x_bounds, y_bounds,n_points=40000000)\n",
    "\n",
    "print(integral_result_tail/integral_result)\n"
   ]
  },
  {
   "cell_type": "code",
   "execution_count": 48,
   "metadata": {},
   "outputs": [
    {
     "data": {
      "text/plain": [
       "0.08482"
      ]
     },
     "execution_count": 48,
     "metadata": {},
     "output_type": "execute_result"
    }
   ],
   "source": [
    "# Define the criteria\n",
    "x_criteria = 2\n",
    "y_criteria = 3\n",
    "\n",
    "# Count the points in the tails\n",
    "points_in_tails_HMC = np.sum((HMC_data[2][:, 0] > x_criteria) & (HMC_data[2][:, 1] > y_criteria))\n",
    "\n",
    "\n",
    "# Get the total number of points\n",
    "total_points = HMC_data[2].shape[0]\n",
    "\n",
    "# Calculate the ratio\n",
    "ratio_in_tails_HMC = points_in_tails_HMC / total_points\n",
    "\n",
    "ratio_in_tails_HMC"
   ]
  },
  {
   "cell_type": "code",
   "execution_count": 49,
   "metadata": {},
   "outputs": [
    {
     "data": {
      "text/plain": [
       "0.04766"
      ]
     },
     "execution_count": 49,
     "metadata": {},
     "output_type": "execute_result"
    }
   ],
   "source": [
    "# Define the criteria\n",
    "x_criteria = 2\n",
    "y_criteria = 3\n",
    "\n",
    "# Count the points in the tails\n",
    "points_in_tails_MH = np.sum((MH_data[2][:, 0] > x_criteria) & (MH_data[2][:, 1] > y_criteria))\n",
    "\n",
    "\n",
    "# Get the total number of points\n",
    "total_points = MH_data[2].shape[0]\n",
    "\n",
    "# Calculate the ratio\n",
    "ratio_in_tails = points_in_tails_MH / total_points\n",
    "\n",
    "ratio_in_tails"
   ]
  },
  {
   "cell_type": "code",
   "execution_count": 50,
   "metadata": {},
   "outputs": [
    {
     "data": {
      "image/png": "[encoded data removed]",
      "text/plain": [
       "<Figure size 640x480 with 1 Axes>"
      ]
     },
     "metadata": {},
     "output_type": "display_data"
    }
   ],
   "source": [
    "plt.scatter(HMC_data[2][:, 0], HMC_data[2][:, 1], s=1,label='HMC')\n",
    "plt.scatter(MH_data[2][:, 0], MH_data[2][:, 1], s=1,label='MH')\n",
    "plt.legend()\n",
    "plt.show()"
   ]
  },
  {
   "cell_type": "code",
   "execution_count": 77,
   "metadata": {},
   "outputs": [
    {
     "name": "stdout",
     "output_type": "stream",
     "text": [
      "0.015359715921744352\n"
     ]
    }
   ],
   "source": [
    "# Define the bounds for integration\n",
    "x_bounds_tail = (-100,-0.5)  # Assuming some reasonable upper limit for x\n",
    "y_bounds_tail = (0,100)  # Assuming some reasonable upper limit for y\n",
    "\n",
    "# Perform the integration\n",
    "integral_result_tail = monte_carlo_integration(rosenbrock, x_bounds_tail, y_bounds_tail, n_points=10000000)\n",
    "\n",
    "\n",
    "\n",
    "# Define the bounds for integration\n",
    "x_bounds = (-200, 200)  # Assuming some reasonable upper limit for x\n",
    "y_bounds = (-200, 200)  # Assuming some reasonable upper limit for y\n",
    "\n",
    "# Perform the integration\n",
    "integral_result = monte_carlo_integration(rosenbrock, x_bounds, y_bounds,n_points=40000000)\n",
    "\n",
    "print(integral_result_tail/integral_result)"
   ]
  },
  {
   "cell_type": "code",
   "execution_count": 78,
   "metadata": {},
   "outputs": [
    {
     "data": {
      "text/plain": [
       "0.01825"
      ]
     },
     "execution_count": 78,
     "metadata": {},
     "output_type": "execute_result"
    }
   ],
   "source": [
    "# Define the criteria\n",
    "x_criteria = -0.5\n",
    "y_criteria = 0\n",
    "\n",
    "# Count the points in the tails\n",
    "points_in_tails_HMC = np.sum((HMC_data[2][:, 0] < x_criteria) & (HMC_data[2][:, 1] > y_criteria))\n",
    "\n",
    "\n",
    "# Get the total number of points\n",
    "total_points = HMC_data[2].shape[0]\n",
    "\n",
    "# Calculate the ratio\n",
    "ratio_in_tails_HMC = points_in_tails_HMC / total_points\n",
    "\n",
    "ratio_in_tails_HMC"
   ]
  },
  {
   "cell_type": "code",
   "execution_count": 79,
   "metadata": {},
   "outputs": [
    {
     "data": {
      "text/plain": [
       "0.016"
      ]
     },
     "execution_count": 79,
     "metadata": {},
     "output_type": "execute_result"
    }
   ],
   "source": [
    "# Define the criteria\n",
    "x_criteria = -0.5\n",
    "y_criteria = 0\n",
    "\n",
    "# Count the points in the tails\n",
    "points_in_tails_MH = np.sum((MH_data[2][:, 0] < x_criteria) & (MH_data[2][:, 1] > y_criteria))\n",
    "\n",
    "\n",
    "# Get the total number of points\n",
    "total_points = MH_data[2].shape[0]\n",
    "\n",
    "# Calculate the ratio\n",
    "ratio_in_tails = points_in_tails_MH / total_points\n",
    "\n",
    "ratio_in_tails"
   ]
  }
 ],
 "metadata": {
  "kernelspec": {
   "display_name": "bayesian",
   "language": "python",
   "name": "python3"
  },
  "language_info": {
   "codemirror_mode": {
    "name": "ipython",
    "version": 3
   },
   "file_extension": ".py",
   "mimetype": "text/x-python",
   "name": "python",
   "nbconvert_exporter": "python",
   "pygments_lexer": "ipython3",
   "version": "3.11.5"
  }
 },
 "nbformat": 4,
 "nbformat_minor": 2
}
