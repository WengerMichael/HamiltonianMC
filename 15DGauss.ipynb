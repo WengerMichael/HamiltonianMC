{
 "cells": [
  {
   "cell_type": "code",
   "execution_count": 17,
   "metadata": {},
   "outputs": [],
   "source": [
    "import numpy as np\n",
    "import jax.numpy as jnp\n",
    "import warnings\n",
    "\n",
    "def log_gaussian_15d(x, dim=15):\n",
    "    if len(x) != dim :\n",
    "        warnings.warn(\"The dimension of the input does not match the dimension of the distribution\")\n",
    "        return\n",
    "    x = jnp.array(x)\n",
    "    \n",
    "    # Define mean vector and covariance matrix for the specified dimension\n",
    "    mean = np.array([1, -1.5,2,3,-1,5,6,0,1,-1,0,2,-2,0,1])\n",
    "    cov_matrix = jnp.array([[ 1.0,  0.5,  0.0,  0.5,  1.0,  0.5,  0.5,  0.5,  0.5,  1.0,  0.0,  0.5,  1.0,  0.5,  1.0],\n",
    "[ 0.5,  2.0,  0.5,  0.0,  0.5,  1.0,  0.5,  0.5,  0.5,  0.5,  1.0,  0.5,  0.5,  1.0,  0.5],\n",
    " [ 0.0,  0.5,  1.5,  0.5,  0.5,  0.5,  0.0,  0.5,  1.0,  0.5,  0.5,  0.0,  0.5,  0.5,  1.0],\n",
    " [ 0.5,  0.0,  0.5,  2.0,  0.5,  0.5,  1.0,  0.5,  0.0,  0.5,  0.5,  1.0,  0.5,  0.5,  0.5],\n",
    " [ 1.0,  0.5,  0.5,  0.5,  1.0,  0.5,  0.5,  1.0,  0.5,  0.0,  0.5,  0.5,  0.5,  1.0,  0.5],\n",
    " [ 0.5,  1.0,  0.5,  0.5,  0.5,  2.0,  0.5,  0.5,  0.5,  0.5,  1.0,  0.5,  0.5,  0.5,  0.5],\n",
    " [ 0.5,  0.5,  0.0,  1.0,  0.5,  0.5,  1.5,  0.5,  0.5,  0.5,  0.0,  0.5,  0.5,  0.5,  1.0],\n",
    " [ 0.5,  0.5,  0.5,  0.5,  1.0,  0.5,  0.5,  1.0,  0.5,  0.5,  0.5,  0.0,  0.5,  0.5,  0.5],\n",
    " [ 0.5,  0.5,  1.0,  0.0,  0.5,  0.5,  0.5,  0.5,  2.0,  0.5,  0.5,  0.5,  0.5,  1.0,  0.5],\n",
    " [ 1.0,  0.5,  0.5,  0.5,  0.0,  0.5,  0.5,  0.5,  0.5,  1.5,  0.5,  1.0,  0.5,  0.5,  0.5],\n",
    " [ 0.0,  1.0,  0.5,  0.5,  0.5,  1.0,  0.0,  0.5,  0.5,  0.5,  1.0,  0.5,  0.5,  0.5,  0.5],\n",
    " [ 0.5,  0.5,  0.0,  1.0,  0.5,  0.5,  0.5,  0.0,  0.5,  1.0,  0.5,  2.0,  0.5,  0.5,  0.5],\n",
    " [ 1.0,  0.5,  0.5,  0.5,  0.5,  0.5,  0.5,  0.5,  0.5,  0.5,  0.5,  0.5,  1.5,  0.5,  0.5],\n",
    " [ 0.5,  1.0,  0.5,  0.5,  1.0,  0.5,  0.5,  0.5,  1.0,  0.5,  0.5,  0.5,  0.5,  2.0,  0.5],\n",
    " [ 1.0,  0.5,  1.0,  0.5,  0.5,  0.5,  1.0,  0.5,  0.5,  0.5,  0.5,  0.5,  0.5,  0.5,  2.0]])\n",
    "\n",
    "\n",
    "    # Ensure the covariance matrix is of the correct dimension\n",
    "    #assert cov_matrix.shape == (dim, dim), f\"Covariance matrix must be {dim}x{dim}.\"\n",
    "\n",
    "    # Calculate the inverse and determinant of the covariance matrix\n",
    "    cov_inv = jnp.linalg.inv(cov_matrix)\n",
    "    cov_det = jnp.linalg.det(cov_matrix)\n",
    "\n",
    "    # Calculate the normalization factor\n",
    "    normalization_factor = 1 / ((2 * jnp.pi) ** (dim / 2) * jnp.sqrt(cov_det))\n",
    "\n",
    "    # Calculate the exponent term\n",
    "    diff = x - mean\n",
    "    exponent_term = -0.5 * jnp.dot(jnp.dot(diff.T, cov_inv), diff)\n",
    "\n",
    "    # Calculate the Gaussian distribution value\n",
    "    gaussian_value = normalization_factor * jnp.exp(exponent_term)\n",
    "\n",
    "    # Return the logarithm of the Gaussian distribution\n",
    "    return np.log(gaussian_value)\n"
   ]
  },
  {
   "cell_type": "code",
   "execution_count": 21,
   "metadata": {},
   "outputs": [
    {
     "data": {
      "text/plain": [
       "-40.684177"
      ]
     },
     "execution_count": 21,
     "metadata": {},
     "output_type": "execute_result"
    }
   ],
   "source": [
    "x = [0,0,0,0,0,0,0,0,1,0,0,0,0,0,0]\n",
    "log_gaussian_15d(x)"
   ]
  },
  {
   "cell_type": "code",
   "execution_count": null,
   "metadata": {},
   "outputs": [],
   "source": []
  }
 ],
 "metadata": {
  "kernelspec": {
   "display_name": "bayesian",
   "language": "python",
   "name": "python3"
  },
  "language_info": {
   "codemirror_mode": {
    "name": "ipython",
    "version": 3
   },
   "file_extension": ".py",
   "mimetype": "text/x-python",
   "name": "python",
   "nbconvert_exporter": "python",
   "pygments_lexer": "ipython3",
   "version": "3.11.9"
  }
 },
 "nbformat": 4,
 "nbformat_minor": 2
}
