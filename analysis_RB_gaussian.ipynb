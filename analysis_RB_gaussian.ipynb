{
 "cells": [
  {
   "cell_type": "code",
   "execution_count": 1,
   "metadata": {},
   "outputs": [],
   "source": [
    "import emcee\n",
    "import numpy as np\n",
    "import matplotlib.pyplot as plt\n",
    "import corner\n",
    "import getdist "
   ]
  },
  {
   "cell_type": "code",
   "execution_count": 2,
   "metadata": {},
   "outputs": [],
   "source": [
    "def load_and_process_csv(file_path):\n",
    "    data = np.loadtxt(file_path, delimiter=',', skiprows=2)\n",
    "    if data.shape[1] < 2:\n",
    "        raise ValueError(f\"Data in {file_path} must have at least two columns for 2D plotting\")\n",
    "    return data\n",
    "\n",
    "def load_acceptance_rate(file_path):\n",
    "    acceptance_rate = np.loadtxt(file_path, delimiter=',', skiprows=1, max_rows=1)[0]\n",
    "    return acceptance_rate"
   ]
  },
  {
   "cell_type": "code",
   "execution_count": 3,
   "metadata": {},
   "outputs": [
    {
     "name": "stderr",
     "output_type": "stream",
     "text": [
      "The chain is shorter than 50 times the integrated autocorrelation time for 2 parameter(s). Use this estimate with caution and run a longer chain!\n",
      "N/50 = 200;\n",
      "tau: [573.58880996 541.1618788 ]\n",
      "The chain is shorter than 50 times the integrated autocorrelation time for 1 parameter(s). Use this estimate with caution and run a longer chain!\n",
      "N/50 = 2000;\n",
      "tau: [1363.33277069 2223.93896127]\n"
     ]
    }
   ],
   "source": [
    "# Paths to the CSV files\n",
    "csv_file_paths_hmc = ['HMC_data/HMC_samples_RB_10000.csv', 'HMC_data/HMC_samples_RB_50000.csv', 'HMC_data/HMC_samples_RB_100000.csv']  # Replace with your actual file paths\n",
    "\n",
    "# Load and process each CSV file\n",
    "HMC_data = [load_and_process_csv(file_path) for file_path in csv_file_paths_hmc]\n",
    "HMC_acceptance_rate = [load_acceptance_rate(file_path) for file_path in csv_file_paths_hmc]\n",
    "# Paths to the CSV files\n",
    "csv_file_paths_mh = ['MH_data/MH_samples_RB_10000.csv', 'MH_data/MH_samples_RB_50000.csv', 'MH_data/MH_samples_RB_100000.csv']  # Replace with your actual file paths\n",
    "\n",
    "# Load and process each CSV file\n",
    "MH_data = [load_and_process_csv(file_path) for file_path in csv_file_paths_mh]\n",
    "MH_acceptance_rate = [load_acceptance_rate(file_path) for file_path in csv_file_paths_mh]\n",
    "\n",
    "\n",
    "HMC_corr_time = [emcee.autocorr.integrated_time(HMC_data[i], has_walkers=False, quiet=True)[0] for i in range (0,len(HMC_acceptance_rate))]\n",
    "MH_corr_time = [emcee.autocorr.integrated_time(MH_data[i], has_walkers=False, quiet=True)[0] for i in range (0,len(MH_acceptance_rate))]"
   ]
  },
  {
   "cell_type": "code",
   "execution_count": 22,
   "metadata": {},
   "outputs": [
    {
     "data": {
      "text/plain": [
       "[122.9952187097447, 253.07931146018709, 1363.3327706850991]"
      ]
     },
     "execution_count": 22,
     "metadata": {},
     "output_type": "execute_result"
    }
   ],
   "source": [
    "MH_corr_time"
   ]
  },
  {
   "cell_type": "code",
   "execution_count": 23,
   "metadata": {},
   "outputs": [
    {
     "data": {
      "text/plain": [
       "[573.5888099631151, 990.1644148708392, 1453.5687865742489]"
      ]
     },
     "execution_count": 23,
     "metadata": {},
     "output_type": "execute_result"
    }
   ],
   "source": [
    "HMC_corr_time"
   ]
  },
  {
   "cell_type": "code",
   "execution_count": 5,
   "metadata": {},
   "outputs": [
    {
     "data": {
      "text/plain": [
       "[0.0715, 0.1233, 0.08317]"
      ]
     },
     "execution_count": 5,
     "metadata": {},
     "output_type": "execute_result"
    }
   ],
   "source": [
    "MH_acceptance_rate"
   ]
  },
  {
   "cell_type": "code",
   "execution_count": 6,
   "metadata": {},
   "outputs": [
    {
     "data": {
      "text/plain": [
       "[1.0, 0.99998, 0.99988]"
      ]
     },
     "execution_count": 6,
     "metadata": {},
     "output_type": "execute_result"
    }
   ],
   "source": [
    "HMC_acceptance_rate"
   ]
  },
  {
   "cell_type": "code",
   "execution_count": 37,
   "metadata": {},
   "outputs": [
    {
     "name": "stdout",
     "output_type": "stream",
     "text": [
      "Removed no burn in\n"
     ]
    }
   ],
   "source": [
    "getdist_samples = getdist.MCSamples(\n",
    "    samples=HMC_data[2],\n",
    "    names=['x','y'],\n",
    "    label=\"Model 1\",\n",
    "    #ranges={\"c\": (-1000, 1000), \"d\": (-1000, 1000)}\n",
    ")"
   ]
  },
  {
   "cell_type": "code",
   "execution_count": 41,
   "metadata": {},
   "outputs": [
    {
     "ename": "Exception",
     "evalue": "parameter name not found: a",
     "output_type": "error",
     "traceback": [
      "\u001b[1;31m---------------------------------------------------------------------------\u001b[0m",
      "\u001b[1;31mException\u001b[0m                                 Traceback (most recent call last)",
      "Cell \u001b[1;32mIn[41], line 1\u001b[0m\n\u001b[1;32m----> 1\u001b[0m \u001b[43mg\u001b[49m\u001b[38;5;241;43m.\u001b[39;49m\u001b[43mtriangle_plot\u001b[49m\u001b[43m(\u001b[49m\u001b[43m[\u001b[49m\u001b[43mgetdist_samples\u001b[49m\u001b[43m]\u001b[49m\u001b[43m,\u001b[49m\n\u001b[0;32m      2\u001b[0m \u001b[43m                \u001b[49m\u001b[43mparams\u001b[49m\u001b[38;5;241;43m=\u001b[39;49m\u001b[43m[\u001b[49m\u001b[38;5;124;43m\"\u001b[39;49m\u001b[38;5;124;43ma\u001b[39;49m\u001b[38;5;124;43m\"\u001b[39;49m\u001b[43m,\u001b[49m\u001b[43m \u001b[49m\u001b[38;5;124;43m\"\u001b[39;49m\u001b[38;5;124;43mb\u001b[39;49m\u001b[38;5;124;43m\"\u001b[39;49m\u001b[43m]\u001b[49m\u001b[43m,\u001b[49m\n\u001b[0;32m      3\u001b[0m \u001b[43m                \u001b[49m\u001b[43mfilled\u001b[49m\u001b[38;5;241;43m=\u001b[39;49m\u001b[38;5;28;43;01mTrue\u001b[39;49;00m\u001b[43m,\u001b[49m\n\u001b[0;32m      4\u001b[0m \u001b[43m                \u001b[49m\u001b[43m)\u001b[49m\n\u001b[0;32m      6\u001b[0m g\u001b[38;5;241m.\u001b[39msubplots[\u001b[38;5;241m0\u001b[39m,\u001b[38;5;241m0\u001b[39m]\u001b[38;5;241m.\u001b[39mplot([],[], \u001b[38;5;241m*\u001b[39m\u001b[38;5;241m*\u001b[39m{\u001b[38;5;124m\"\u001b[39m\u001b[38;5;124mlw\u001b[39m\u001b[38;5;124m\"\u001b[39m : \u001b[38;5;241m1.0\u001b[39m, \u001b[38;5;124m\"\u001b[39m\u001b[38;5;124mls\u001b[39m\u001b[38;5;124m\"\u001b[39m : \u001b[38;5;124m\"\u001b[39m\u001b[38;5;124m--\u001b[39m\u001b[38;5;124m\"\u001b[39m, \u001b[38;5;124m\"\u001b[39m\u001b[38;5;124mc\u001b[39m\u001b[38;5;124m\"\u001b[39m : \u001b[38;5;124m\"\u001b[39m\u001b[38;5;124mk\u001b[39m\u001b[38;5;124m\"\u001b[39m, \u001b[38;5;124m\"\u001b[39m\u001b[38;5;124malpha\u001b[39m\u001b[38;5;124m\"\u001b[39m : \u001b[38;5;241m0.5\u001b[39m}, label\u001b[38;5;241m=\u001b[39m\u001b[38;5;124m\"\u001b[39m\u001b[38;5;124mPosterior mode\u001b[39m\u001b[38;5;124m\"\u001b[39m)\n\u001b[0;32m      7\u001b[0m g\u001b[38;5;241m.\u001b[39msubplots[\u001b[38;5;241m0\u001b[39m,\u001b[38;5;241m0\u001b[39m]\u001b[38;5;241m.\u001b[39mlegend(frameon\u001b[38;5;241m=\u001b[39m\u001b[38;5;28;01mFalse\u001b[39;00m, loc\u001b[38;5;241m=\u001b[39m\u001b[38;5;241m2\u001b[39m, bbox_to_anchor\u001b[38;5;241m=\u001b[39m(\u001b[38;5;241m1\u001b[39m,\u001b[38;5;241m1\u001b[39m))\n",
      "File \u001b[1;32mc:\\Users\\micha\\miniconda3\\envs\\bayesian3\\Lib\\site-packages\\getdist\\plots.py:2410\u001b[0m, in \u001b[0;36mGetDistPlotter.triangle_plot\u001b[1;34m(self, roots, params, legend_labels, plot_3d_with_param, filled, shaded, contour_args, contour_colors, contour_ls, contour_lws, line_args, label_order, legend_ncol, legend_loc, title_limit, upper_roots, upper_kwargs, upper_label_right, diag1d_kwargs, markers, marker_args, param_limits, **kwargs)\u001b[0m\n\u001b[0;32m   2351\u001b[0m \u001b[38;5;250m\u001b[39m\u001b[38;5;124;03m\"\"\"\u001b[39;00m\n\u001b[0;32m   2352\u001b[0m \u001b[38;5;124;03mMake a trianglular array of 1D and 2D plots. Also known as corner plot.\u001b[39;00m\n\u001b[0;32m   2353\u001b[0m \n\u001b[1;32m   (...)\u001b[0m\n\u001b[0;32m   2407\u001b[0m \n\u001b[0;32m   2408\u001b[0m \u001b[38;5;124;03m\"\"\"\u001b[39;00m\n\u001b[0;32m   2409\u001b[0m roots \u001b[38;5;241m=\u001b[39m makeList(roots)\n\u001b[1;32m-> 2410\u001b[0m params \u001b[38;5;241m=\u001b[39m \u001b[38;5;28;43mself\u001b[39;49m\u001b[38;5;241;43m.\u001b[39;49m\u001b[43mget_param_array\u001b[49m\u001b[43m(\u001b[49m\u001b[43mroots\u001b[49m\u001b[43m,\u001b[49m\u001b[43m \u001b[49m\u001b[43mparams\u001b[49m\u001b[43m)\u001b[49m\n\u001b[0;32m   2411\u001b[0m plot_col \u001b[38;5;241m=\u001b[39m \u001b[38;5;28mlen\u001b[39m(params)\n\u001b[0;32m   2412\u001b[0m \u001b[38;5;28;01mif\u001b[39;00m plot_3d_with_param \u001b[38;5;129;01mis\u001b[39;00m \u001b[38;5;129;01mnot\u001b[39;00m \u001b[38;5;28;01mNone\u001b[39;00m:\n",
      "File \u001b[1;32mc:\\Users\\micha\\miniconda3\\envs\\bayesian3\\Lib\\site-packages\\getdist\\plots.py:1830\u001b[0m, in \u001b[0;36mGetDistPlotter.get_param_array\u001b[1;34m(self, roots, params, renames)\u001b[0m\n\u001b[0;32m   1827\u001b[0m old \u001b[38;5;241m=\u001b[39m [(old \u001b[38;5;28;01mif\u001b[39;00m \u001b[38;5;28misinstance\u001b[39m(old, ParamInfo) \u001b[38;5;28;01melse\u001b[39;00m ParamInfo(old)) \u001b[38;5;28;01mfor\u001b[39;00m old \u001b[38;5;129;01min\u001b[39;00m params]\n\u001b[0;32m   1829\u001b[0m \u001b[38;5;28;01mif\u001b[39;00m \u001b[38;5;28mlen\u001b[39m(roots) \u001b[38;5;241m==\u001b[39m \u001b[38;5;241m1\u001b[39m:\n\u001b[1;32m-> 1830\u001b[0m     \u001b[38;5;28;01mreturn\u001b[39;00m [new \u001b[38;5;129;01mor\u001b[39;00m old \u001b[38;5;28;01mfor\u001b[39;00m new, old \u001b[38;5;129;01min\u001b[39;00m \u001b[38;5;28mzip\u001b[39m(\u001b[43mnames\u001b[49m\u001b[38;5;241;43m.\u001b[39;49m\u001b[43mparsWithNames\u001b[49m\u001b[43m(\u001b[49m\u001b[43mparams_names\u001b[49m\u001b[43m,\u001b[49m\n\u001b[0;32m   1831\u001b[0m \u001b[43m                                                               \u001b[49m\u001b[43merror\u001b[49m\u001b[38;5;241;43m=\u001b[39;49m\u001b[43merror\u001b[49m\u001b[43m,\u001b[49m\u001b[43m \u001b[49m\u001b[43mrenames\u001b[49m\u001b[38;5;241;43m=\u001b[39;49m\u001b[43mrenames\u001b[49m\u001b[43m)\u001b[49m, old)]\n\u001b[0;32m   1832\u001b[0m \u001b[38;5;66;03m# check if requesting parameter that is not in the first root\u001b[39;00m\n\u001b[0;32m   1833\u001b[0m has_names \u001b[38;5;241m=\u001b[39m [i \u001b[38;5;28;01mfor\u001b[39;00m i, param_name \u001b[38;5;129;01min\u001b[39;00m \u001b[38;5;28menumerate\u001b[39m(params_names) \u001b[38;5;28;01mif\u001b[39;00m names\u001b[38;5;241m.\u001b[39mhasParam(param_name)]\n",
      "File \u001b[1;32mc:\\Users\\micha\\miniconda3\\envs\\bayesian3\\Lib\\site-packages\\getdist\\paramnames.py:286\u001b[0m, in \u001b[0;36mParamList.parsWithNames\u001b[1;34m(self, names, error, renames)\u001b[0m\n\u001b[0;32m    284\u001b[0m             res \u001b[38;5;241m+\u001b[39m\u001b[38;5;241m=\u001b[39m \u001b[38;5;28mself\u001b[39m\u001b[38;5;241m.\u001b[39mgetMatches(name)\n\u001b[0;32m    285\u001b[0m         \u001b[38;5;28;01melse\u001b[39;00m:\n\u001b[1;32m--> 286\u001b[0m             res\u001b[38;5;241m.\u001b[39mappend(\u001b[38;5;28;43mself\u001b[39;49m\u001b[38;5;241;43m.\u001b[39;49m\u001b[43mparWithName\u001b[49m\u001b[43m(\u001b[49m\u001b[43mname\u001b[49m\u001b[43m,\u001b[49m\u001b[43m \u001b[49m\u001b[43merror\u001b[49m\u001b[43m,\u001b[49m\u001b[43m \u001b[49m\u001b[43mrenames\u001b[49m\u001b[43m)\u001b[49m)\n\u001b[0;32m    287\u001b[0m \u001b[38;5;28;01mreturn\u001b[39;00m res\n",
      "File \u001b[1;32mc:\\Users\\micha\\miniconda3\\envs\\bayesian3\\Lib\\site-packages\\getdist\\paramnames.py:244\u001b[0m, in \u001b[0;36mParamList.parWithName\u001b[1;34m(self, name, error, renames)\u001b[0m\n\u001b[0;32m    242\u001b[0m         \u001b[38;5;28;01mreturn\u001b[39;00m par\n\u001b[0;32m    243\u001b[0m \u001b[38;5;28;01mif\u001b[39;00m error:\n\u001b[1;32m--> 244\u001b[0m     \u001b[38;5;28;01mraise\u001b[39;00m \u001b[38;5;167;01mException\u001b[39;00m(\u001b[38;5;124m\"\u001b[39m\u001b[38;5;124mparameter name not found: \u001b[39m\u001b[38;5;132;01m%s\u001b[39;00m\u001b[38;5;124m\"\u001b[39m \u001b[38;5;241m%\u001b[39m name)\n\u001b[0;32m    245\u001b[0m \u001b[38;5;28;01mreturn\u001b[39;00m \u001b[38;5;28;01mNone\u001b[39;00m\n",
      "\u001b[1;31mException\u001b[0m: parameter name not found: a"
     ]
    }
   ],
   "source": [
    "g.triangle_plot([getdist_samples],\n",
    "                params=[\"a\", \"b\"],\n",
    "                filled=True,\n",
    "                )\n",
    "\n",
    "g.subplots[0,0].plot([],[], **{\"lw\" : 1.0, \"ls\" : \"--\", \"c\" : \"k\", \"alpha\" : 0.5}, label=\"Posterior mode\")\n",
    "g.subplots[0,0].legend(frameon=False, loc=2, bbox_to_anchor=(1,1))"
   ]
  },
  {
   "cell_type": "code",
   "execution_count": null,
   "metadata": {},
   "outputs": [],
   "source": []
  }
 ],
 "metadata": {
  "kernelspec": {
   "display_name": "bayesian3",
   "language": "python",
   "name": "python3"
  },
  "language_info": {
   "codemirror_mode": {
    "name": "ipython",
    "version": 3
   },
   "file_extension": ".py",
   "mimetype": "text/x-python",
   "name": "python",
   "nbconvert_exporter": "python",
   "pygments_lexer": "ipython3",
   "version": "3.11.9"
  }
 },
 "nbformat": 4,
 "nbformat_minor": 2
}
