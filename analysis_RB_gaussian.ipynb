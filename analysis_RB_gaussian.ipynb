{
 "cells": [
  {
   "cell_type": "code",
   "execution_count": 1,
   "metadata": {},
   "outputs": [],
   "source": [
    "import emcee\n",
    "import numpy as np"
   ]
  },
  {
   "cell_type": "code",
   "execution_count": 2,
   "metadata": {},
   "outputs": [],
   "source": [
    "def load_and_process_csv(file_path):\n",
    "    data = np.loadtxt(file_path, delimiter=',', skiprows=2)\n",
    "    if data.shape[1] < 2:\n",
    "        raise ValueError(f\"Data in {file_path} must have at least two columns for 2D plotting\")\n",
    "    return data\n",
    "\n",
    "def load_acceptance_rate(file_path):\n",
    "    acceptance_rate = np.loadtxt(file_path, delimiter=',', skiprows=1, max_rows=1)[0]\n",
    "    return acceptance_rate"
   ]
  },
  {
   "cell_type": "code",
   "execution_count": 3,
   "metadata": {},
   "outputs": [
    {
     "name": "stderr",
     "output_type": "stream",
     "text": [
      "The chain is shorter than 50 times the integrated autocorrelation time for 2 parameter(s). Use this estimate with caution and run a longer chain!\n",
      "N/50 = 200;\n",
      "tau: [573.58880996 541.1618788 ]\n",
      "The chain is shorter than 50 times the integrated autocorrelation time for 1 parameter(s). Use this estimate with caution and run a longer chain!\n",
      "N/50 = 2000;\n",
      "tau: [1363.33277069 2223.93896127]\n"
     ]
    }
   ],
   "source": [
    "# Paths to the CSV files\n",
    "csv_file_paths_hmc = ['HMC_data/HMC_samples_RB_10000.csv', 'HMC_data/HMC_samples_RB_50000.csv', 'HMC_data/HMC_samples_RB_100000.csv']  # Replace with your actual file paths\n",
    "\n",
    "# Load and process each CSV file\n",
    "HMC_data = [load_and_process_csv(file_path) for file_path in csv_file_paths_hmc]\n",
    "HMC_acceptance_rate = [load_acceptance_rate(file_path) for file_path in csv_file_paths_hmc]\n",
    "# Paths to the CSV files\n",
    "csv_file_paths_mh = ['MH_data/MH_samples_RB_10000.csv', 'MH_data/MH_samples_RB_50000.csv', 'MH_data/MH_samples_RB_100000.csv']  # Replace with your actual file paths\n",
    "\n",
    "# Load and process each CSV file\n",
    "MH_data = [load_and_process_csv(file_path) for file_path in csv_file_paths_mh]\n",
    "MH_acceptance_rate = [load_acceptance_rate(file_path) for file_path in csv_file_paths_mh]\n",
    "\n",
    "\n",
    "HMC_corr_time = [emcee.autocorr.integrated_time(HMC_data[i], has_walkers=False, quiet=True)[0] for i in range (0,len(HMC_acceptance_rate))]\n",
    "MH_corr_time = [emcee.autocorr.integrated_time(MH_data[i], has_walkers=False, quiet=True)[0] for i in range (0,len(MH_acceptance_rate))]"
   ]
  },
  {
   "cell_type": "code",
   "execution_count": 4,
   "metadata": {},
   "outputs": [
    {
     "data": {
      "text/plain": [
       "[122.9952187097447, 253.07931146018709, 1363.3327706850991]"
      ]
     },
     "execution_count": 4,
     "metadata": {},
     "output_type": "execute_result"
    }
   ],
   "source": [
    "MH_corr_time"
   ]
  },
  {
   "cell_type": "code",
   "execution_count": 5,
   "metadata": {},
   "outputs": [
    {
     "data": {
      "text/plain": [
       "[573.5888099631151, 990.1644148708392, 1453.5687865742489]"
      ]
     },
     "execution_count": 5,
     "metadata": {},
     "output_type": "execute_result"
    }
   ],
   "source": [
    "HMC_corr_time"
   ]
  },
  {
   "cell_type": "code",
   "execution_count": 6,
   "metadata": {},
   "outputs": [
    {
     "data": {
      "text/plain": [
       "[0.0715, 0.1233, 0.08317]"
      ]
     },
     "execution_count": 6,
     "metadata": {},
     "output_type": "execute_result"
    }
   ],
   "source": [
    "MH_acceptance_rate"
   ]
  },
  {
   "cell_type": "code",
   "execution_count": 7,
   "metadata": {},
   "outputs": [
    {
     "data": {
      "text/plain": [
       "[1.0, 0.99998, 0.99988]"
      ]
     },
     "execution_count": 7,
     "metadata": {},
     "output_type": "execute_result"
    }
   ],
   "source": [
    "HMC_acceptance_rate"
   ]
  }
 ],
 "metadata": {
  "kernelspec": {
   "display_name": "bayesian3",
   "language": "python",
   "name": "python3"
  },
  "language_info": {
   "codemirror_mode": {
    "name": "ipython",
    "version": 3
   },
   "file_extension": ".py",
   "mimetype": "text/x-python",
   "name": "python",
   "nbconvert_exporter": "python",
   "pygments_lexer": "ipython3",
   "version": "3.11.9"
  }
 },
 "nbformat": 4,
 "nbformat_minor": 2
}
