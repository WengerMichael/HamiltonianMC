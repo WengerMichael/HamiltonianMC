{
 "cells": [
  {
   "cell_type": "code",
   "execution_count": 1,
   "metadata": {},
   "outputs": [],
   "source": [
    "import emcee\n",
    "import numpy as np\n",
    "import matplotlib.pyplot as plt\n",
    "from getdist import plots, MCSamples"
   ]
  },
  {
   "cell_type": "code",
   "execution_count": 2,
   "metadata": {},
   "outputs": [],
   "source": [
    "def load_and_process_csv(file_path):\n",
    "    data = np.loadtxt(file_path, delimiter=',', skiprows=2)\n",
    "    if data.shape[1] < 2:\n",
    "        raise ValueError(f\"Data in {file_path} must have at least two columns for 2D plotting\")\n",
    "    return data\n",
    "\n",
    "def load_acceptance_rate(file_path):\n",
    "    acceptance_rate = np.loadtxt(file_path, delimiter=',', skiprows=1, max_rows=1)[0]\n",
    "    return acceptance_rate"
   ]
  },
  {
   "cell_type": "code",
   "execution_count": 3,
   "metadata": {},
   "outputs": [
    {
     "name": "stderr",
     "output_type": "stream",
     "text": [
      "The chain is shorter than 50 times the integrated autocorrelation time for 1 parameter(s). Use this estimate with caution and run a longer chain!\n",
      "N/50 = 200;\n",
      "tau: [278.03355771  29.58067296]\n"
     ]
    }
   ],
   "source": [
    "# Paths to the CSV files\n",
    "csv_file_paths_hmc = ['HMC_data/HMC_samples_2D_10000.csv', 'HMC_data/HMC_samples_2D_50000.csv', 'HMC_data/HMC_samples_2D_100000.csv']  # Replace with your actual file paths\n",
    "\n",
    "# Load and process each CSV file\n",
    "HMC_data = [load_and_process_csv(file_path) for file_path in csv_file_paths_hmc]\n",
    "HMC_acceptance_rate = [load_acceptance_rate(file_path) for file_path in csv_file_paths_hmc]\n",
    "# Paths to the CSV files\n",
    "csv_file_paths_mh = ['MH_data/MH_samples_2D_10000.csv', 'MH_data/MH_samples_2D_50000.csv', 'MH_data/MH_samples_2D_100000.csv']  # Replace with your actual file paths\n",
    "\n",
    "# Load and process each CSV file\n",
    "MH_data = [load_and_process_csv(file_path) for file_path in csv_file_paths_mh]\n",
    "MH_acceptance_rate = [load_acceptance_rate(file_path) for file_path in csv_file_paths_mh]\n",
    "\n",
    "\n",
    "HMC_corr_time = [emcee.autocorr.integrated_time(HMC_data[i], has_walkers=False, quiet=True)[0] for i in range (0,len(HMC_acceptance_rate))]\n",
    "MH_corr_time = [emcee.autocorr.integrated_time(MH_data[i], has_walkers=False, quiet = True)[0] for i in range (0,len(MH_acceptance_rate))]"
   ]
  },
  {
   "cell_type": "code",
   "execution_count": 4,
   "metadata": {},
   "outputs": [
    {
     "data": {
      "text/plain": [
       "[0.7283, 0.76666, 0.78273]"
      ]
     },
     "execution_count": 4,
     "metadata": {},
     "output_type": "execute_result"
    }
   ],
   "source": [
    "MH_acceptance_rate"
   ]
  },
  {
   "cell_type": "code",
   "execution_count": 5,
   "metadata": {},
   "outputs": [
    {
     "data": {
      "text/plain": [
       "[278.03355771111427, 550.585764766985, 89.19317750386902]"
      ]
     },
     "execution_count": 5,
     "metadata": {},
     "output_type": "execute_result"
    }
   ],
   "source": [
    "MH_corr_time"
   ]
  },
  {
   "cell_type": "code",
   "execution_count": 6,
   "metadata": {},
   "outputs": [
    {
     "data": {
      "text/plain": [
       "[14.935835322004289, 16.90653552537352, 17.504493644969024]"
      ]
     },
     "execution_count": 6,
     "metadata": {},
     "output_type": "execute_result"
    }
   ],
   "source": [
    "HMC_corr_time"
   ]
  },
  {
   "cell_type": "code",
   "execution_count": 7,
   "metadata": {},
   "outputs": [
    {
     "data": {
      "text/plain": [
       "[0.9995, 0.99962, 0.9995]"
      ]
     },
     "execution_count": 7,
     "metadata": {},
     "output_type": "execute_result"
    }
   ],
   "source": [
    "HMC_acceptance_rate"
   ]
  },
  {
   "cell_type": "code",
   "execution_count": 8,
   "metadata": {},
   "outputs": [
    {
     "name": "stdout",
     "output_type": "stream",
     "text": [
      "Removed no burn in\n",
      "Removed no burn in\n"
     ]
    }
   ],
   "source": [
    "# Get the getdist MCSamples objects for the samples, specifying same parameter\n",
    "# names and labels; if not specified weights are assumed to all be unity\n",
    "names = ['x','y']\n",
    "labels =  ['x', 'y']\n",
    "samples = MCSamples(samples=HMC_data[2],names = names, labels = labels, label = 'HMC')\n",
    "samples2 = MCSamples(samples=MH_data[2],names = names, labels = labels, label='MH')"
   ]
  },
  {
   "cell_type": "code",
   "execution_count": 9,
   "metadata": {},
   "outputs": [],
   "source": [
    "plt.rcParams['font.family'] = 'sans-serif'\n",
    "\n",
    "# Set font size\n",
    "plt.rcParams['font.size'] = 12\n",
    "plt.rcParams['legend.fontsize'] = 12"
   ]
  },
  {
   "cell_type": "code",
   "execution_count": 10,
   "metadata": {},
   "outputs": [
    {
     "data": {
      "image/png": "[encoded data removed]",
      "text/plain": [
       "<Figure size 400x400 with 3 Axes>"
      ]
     },
     "metadata": {},
     "output_type": "display_data"
    }
   ],
   "source": [
    "g = plots.get_subplot_plotter(subplot_size=2)\n",
    "\n",
    "g.settings.line_styles = 'tab10'\n",
    "g.settings.solid_colors='tab10'\n",
    "g.triangle_plot([samples, samples2], filled=True, contour_lws=2, markers={'x':1, 'y':-1.5}, **{\"lw\" : 1.0, \"ls\" : \"--\", \"c\" : \"k\", \"alpha\" : 0.5})"
   ]
  },
  {
   "cell_type": "code",
   "execution_count": 11,
   "metadata": {},
   "outputs": [
    {
     "name": "stdout",
     "output_type": "stream",
     "text": [
      "[ 1.00461935 -1.51658416]\n",
      "[[3.96936742 0.71049933]\n",
      " [0.71049933 1.4675159 ]]\n"
     ]
    }
   ],
   "source": [
    "mean = np.mean(MH_data[2], axis=0)  # Calculate the mean for each dimension\n",
    "print(mean)\n",
    "# Calculate the covariance matrix\n",
    "covariance = np.cov(MH_data[2].T) \n",
    "print(covariance)"
   ]
  },
  {
   "cell_type": "code",
   "execution_count": 12,
   "metadata": {},
   "outputs": [
    {
     "name": "stdout",
     "output_type": "stream",
     "text": [
      "[ 0.99698821 -1.51179739]\n",
      "[[3.9923825  0.69869348]\n",
      " [0.69869348 1.50816423]]\n"
     ]
    }
   ],
   "source": [
    "mean = np.mean(HMC_data[2], axis=0)  # Calculate the mean for each dimension\n",
    "print(mean)\n",
    "# Calculate the covariance matrix\n",
    "covariance = np.cov(HMC_data[2].T) \n",
    "print(covariance)"
   ]
  },
  {
   "cell_type": "code",
   "execution_count": null,
   "metadata": {},
   "outputs": [],
   "source": []
  }
 ],
 "metadata": {
  "kernelspec": {
   "display_name": "bayesian3",
   "language": "python",
   "name": "python3"
  },
  "language_info": {
   "codemirror_mode": {
    "name": "ipython",
    "version": 3
   },
   "file_extension": ".py",
   "mimetype": "text/x-python",
   "name": "python",
   "nbconvert_exporter": "python",
   "pygments_lexer": "ipython3",
   "version": "3.11.9"
  }
 },
 "nbformat": 4,
 "nbformat_minor": 2
}
