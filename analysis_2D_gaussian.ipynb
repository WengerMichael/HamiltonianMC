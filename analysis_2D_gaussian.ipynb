{
 "cells": [
  {
   "cell_type": "code",
   "execution_count": 1,
   "metadata": {},
   "outputs": [],
   "source": [
    "import emcee\n",
    "import numpy as np\n",
    "import matplotlib.pyplot as plt"
   ]
  },
  {
   "cell_type": "code",
   "execution_count": 2,
   "metadata": {},
   "outputs": [],
   "source": [
    "def load_and_process_csv(file_path):\n",
    "    data = np.loadtxt(file_path, delimiter=',')\n",
    "    first_entry = data[0]\n",
    "    print(f\"First entry from {file_path}: {first_entry}\")\n",
    "    data = np.delete(data, 0, axis=0)\n",
    "    if data.shape[1] < 2:\n",
    "        raise ValueError(f\"Data in {file_path} must have at least two columns for 2D plotting\")\n",
    "    return data"
   ]
  },
  {
   "cell_type": "code",
   "execution_count": 4,
   "metadata": {},
   "outputs": [
    {
     "name": "stdout",
     "output_type": "stream",
     "text": [
      "First entry from HMC_data/HMC_samples_2D_10000.csv: [0. 1.]\n",
      "First entry from HMC_data/HMC_samples_2D_50000.csv: [0. 1.]\n",
      "First entry from HMC_data/HMC_samples_2D_100000.csv: [0. 1.]\n",
      "First entry from MH_data/MH_samples_2D_10000.csv: [0. 1.]\n",
      "First entry from MH_data/MH_samples_2D_50000.csv: [0. 1.]\n",
      "First entry from MH_data/MH_samples_2D_100000.csv: [0. 1.]\n"
     ]
    }
   ],
   "source": [
    "# Paths to the CSV files\n",
    "csv_file_paths_hmc = ['HMC_data/HMC_samples_2D_10000.csv', 'HMC_data/HMC_samples_2D_50000.csv', 'HMC_data/HMC_samples_2D_100000.csv']  # Replace with your actual file paths\n",
    "\n",
    "# Load and process each CSV file\n",
    "hmc_data = [load_and_process_csv(file_path) for file_path in csv_file_paths_hmc]\n",
    "\n",
    "# Paths to the CSV files\n",
    "csv_file_paths_mh = ['MH_data/MH_samples_2D_10000.csv', 'MH_data/MH_samples_2D_50000.csv', 'MH_data/MH_samples_2D_100000.csv']  # Replace with your actual file paths\n",
    "\n",
    "# Load and process each CSV file\n",
    "MH_data = [load_and_process_csv(file_path) for file_path in csv_file_paths_mh]"
   ]
  },
  {
   "cell_type": "code",
   "execution_count": null,
   "metadata": {},
   "outputs": [],
   "source": []
  }
 ],
 "metadata": {
  "kernelspec": {
   "display_name": "bayesian3",
   "language": "python",
   "name": "python3"
  },
  "language_info": {
   "codemirror_mode": {
    "name": "ipython",
    "version": 3
   },
   "file_extension": ".py",
   "mimetype": "text/x-python",
   "name": "python",
   "nbconvert_exporter": "python",
   "pygments_lexer": "ipython3",
   "version": "3.11.9"
  }
 },
 "nbformat": 4,
 "nbformat_minor": 2
}
