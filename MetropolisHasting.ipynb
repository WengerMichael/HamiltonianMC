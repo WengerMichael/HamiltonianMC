{
 "cells": [
  {
   "cell_type": "code",
   "execution_count": 1,
   "metadata": {},
   "outputs": [],
   "source": [
    "import numpy as np\n",
    "import scipy.stats\n",
    "import matplotlib.pyplot as plt\n",
    "import time\n",
    "import jax.numpy as jnp\n",
    "from functions.distributions import log_gaussian_2d\n",
    "\n",
    "class MetropolisHastings:\n",
    "    def __init__(self, target_distr, initial_state=None, seed=None):\n",
    "        \"\"\"\n",
    "        Initialize the Metropolis-Hastings sampler.\n",
    "        \n",
    "        Parameters:\n",
    "        - target_distr: function\n",
    "            The target distribution from which we want to sample.\n",
    "        - initial_state: array-like, optional\n",
    "            The initial state of the Markov chain. Default is a zero vector.\n",
    "        - seed: int, optional\n",
    "            Random seed for reproducibility. Default is None.\n",
    "        \"\"\"\n",
    "        self.target_distr = target_distr\n",
    "        self.dim = len(initial_state) if initial_state is not None else 1\n",
    "        self.initial_state = np.array(initial_state) if initial_state is not None else np.zeros(self.dim)\n",
    "        self.seed = seed\n",
    "        self.samples = []\n",
    "        self.acceptance_rate = 0.0\n",
    "        self.mean = None\n",
    "        self.covariance = None\n",
    "        self.time = 0.0\n",
    "        \n",
    "        if seed is not None:\n",
    "            np.random.seed(seed)\n",
    "    \n",
    "    def sample(self, n_samples):\n",
    "        \"\"\"\n",
    "        Generate samples using the Metropolis-Hastings algorithm.\n",
    "        \n",
    "        Parameters:\n",
    "        - n_samples: int\n",
    "            The number of samples to generate.\n",
    "        \n",
    "        Returns:\n",
    "        - samples: np.array\n",
    "            Array of generated samples.\n",
    "        \"\"\"\n",
    "        start_time = time.time()\n",
    "        \n",
    "        proposal_distr = scipy.stats.multivariate_normal\n",
    "        # Random covariance matrix for the proposal distribution\n",
    "        A = np.random.rand(self.dim, self.dim)\n",
    "        cov = np.dot(A, A.T)\n",
    "        \n",
    "        x_t = self.initial_state\n",
    "        samples = []\n",
    "        accept_count = 0\n",
    "        \n",
    "        while len(samples) < n_samples:\n",
    "            x_prime = proposal_distr.rvs(mean=x_t, cov=cov)\n",
    "            acceptance_ratio = (self.target_distr(x_prime) * proposal_distr.pdf(x_t, mean=x_prime, cov=cov)) / \\\n",
    "                               (self.target_distr(x_t) * proposal_distr.pdf(x_prime, mean=x_t, cov=cov))\n",
    "            \n",
    "            acceptance_ratio = min(1, acceptance_ratio)\n",
    "            if np.random.uniform(0, 1) < acceptance_ratio:\n",
    "                x_t = x_prime\n",
    "                samples.append(x_t)\n",
    "                accept_count += 1\n",
    "            else:\n",
    "                samples.append(x_t)\n",
    "        \n",
    "        self.samples = np.array(samples)\n",
    "        self.acceptance_rate = accept_count / n_samples\n",
    "        self.mean = np.mean(self.samples, axis=0)\n",
    "        self.covariance = np.cov(self.samples.T)\n",
    "        \n",
    "        self.time = time.time() - start_time\n",
    "        \n",
    "        return self.samples"
   ]
  },
  {
   "cell_type": "code",
   "execution_count": 3,
   "metadata": {},
   "outputs": [],
   "source": [
    "MH = MetropolisHastings(log_gaussian_2d, initial_state=[0,0], seed=40)"
   ]
  },
  {
   "cell_type": "code",
   "execution_count": 4,
   "metadata": {},
   "outputs": [
    {
     "name": "stderr",
     "output_type": "stream",
     "text": [
      "c:\\Users\\micha\\Documents\\Bayesian\\HamiltonianMC\\functions\\distributions.py:78: RuntimeWarning: divide by zero encountered in log\n",
      "  return np.log(gaussian_value)\n",
      "C:\\Users\\micha\\AppData\\Local\\Temp\\ipykernel_11884\\3757183872.py:59: RuntimeWarning: invalid value encountered in scalar divide\n",
      "  acceptance_ratio = (self.target_distr(x_prime) * proposal_distr.pdf(x_t, mean=x_prime, cov=cov)) / \\\n"
     ]
    },
    {
     "data": {
      "text/plain": [
       "array([[ 0.78061758,  1.53057733],\n",
       "       [ 0.21633609,  0.46769109],\n",
       "       [ 0.17610054,  0.43120335],\n",
       "       ...,\n",
       "       [ 2.93519553, 21.11568867],\n",
       "       [ 2.98861993, 20.99407   ],\n",
       "       [ 3.2899235 , 21.73546464]])"
      ]
     },
     "execution_count": 4,
     "metadata": {},
     "output_type": "execute_result"
    }
   ],
   "source": [
    "MH.sample(n_samples=1000)"
   ]
  },
  {
   "cell_type": "code",
   "execution_count": null,
   "metadata": {},
   "outputs": [],
   "source": []
  }
 ],
 "metadata": {
  "kernelspec": {
   "display_name": "bayesian",
   "language": "python",
   "name": "python3"
  },
  "language_info": {
   "codemirror_mode": {
    "name": "ipython",
    "version": 3
   },
   "file_extension": ".py",
   "mimetype": "text/x-python",
   "name": "python",
   "nbconvert_exporter": "python",
   "pygments_lexer": "ipython3",
   "version": "3.11.9"
  }
 },
 "nbformat": 4,
 "nbformat_minor": 2
}
